{
 "cells": [
  {
   "cell_type": "code",
   "execution_count": 1,
   "metadata": {},
   "outputs": [],
   "source": [
    "#Rules for Python variables\n",
    "#A variable name must start with a letter or the underscore character\n",
    "#A variable name cannot start with a number\n",
    "#A variable name can only contain alpha-numeric characters\n",
    "#an underscores (A-z, 0-9, and _)\n",
    "#Variable names are case-sensitive\n",
    "#(age, Age, and AGE are three different variables)"
   ]
  },
  {
   "cell_type": "code",
   "execution_count": 2,
   "metadata": {},
   "outputs": [
    {
     "data": {
      "text/plain": [
       "'\\nMulti\\nLine\\nComment\\n'"
      ]
     },
     "execution_count": 2,
     "metadata": {},
     "output_type": "execute_result"
    }
   ],
   "source": [
    "'''\n",
    "Multi\n",
    "Line\n",
    "Comment\n",
    "'''\n",
    "#single line comment"
   ]
  },
  {
   "cell_type": "code",
   "execution_count": 3,
   "metadata": {},
   "outputs": [],
   "source": [
    "#String\n",
    "#Interger\n",
    "#Float/Double\n",
    "#Lists\n",
    "#Boolean\n",
    "#Dictionaries"
   ]
  },
  {
   "cell_type": "code",
   "execution_count": 7,
   "metadata": {},
   "outputs": [
    {
     "name": "stdout",
     "output_type": "stream",
     "text": [
      "hello\n",
      "9\n",
      "3.14\n",
      "6\n"
     ]
    }
   ],
   "source": [
    "a = \"hello\"\n",
    "number = \"5\"\n",
    "b = 9\n",
    "c = 3.14\n",
    "d = True\n",
    "print(a)\n",
    "print(b)\n",
    "print(c)\n",
    "print(int(number)+1)\n",
    "#typecasting\n",
    "#int()\n",
    "#float()"
   ]
  },
  {
   "cell_type": "code",
   "execution_count": 11,
   "metadata": {},
   "outputs": [
    {
     "name": "stdout",
     "output_type": "stream",
     "text": [
      "Uniqname = hcoles\n",
      "T\n",
      "o\n",
      "a\n",
      "Hello World\n",
      "Hello World\n"
     ]
    }
   ],
   "source": [
    "#Strings\n",
    "a = \"Hello\"\n",
    "b = \"World\"\n",
    "c = \"This\"\n",
    "d = \"is\"\n",
    "e = \"python3\"\n",
    "sentence = \"Today is a great Saturday afternoon.\"\n",
    "email = \"hcoles@umich.edu\"\n",
    "print(\"Uniqname = \" + email[0:6])\n",
    "#string indexing\n",
    "print(sentence[0])\n",
    "print(sentence[1])\n",
    "print(sentence[3])\n",
    "#print(sentence[0:5])\n",
    "#string concatenation\n",
    "print(a + \" \" + b)\n",
    "mdst = a + \" \" + b\n",
    "print (mdst)"
   ]
  },
  {
   "cell_type": "code",
   "execution_count": 15,
   "metadata": {},
   "outputs": [
    {
     "name": "stdout",
     "output_type": "stream",
     "text": [
      "3.0\n",
      "27\n",
      "12\n",
      "6\n",
      "\n",
      "\n",
      "True\n",
      "False\n",
      "False\n",
      "True\n",
      "\n",
      "\n",
      "True\n",
      "False\n",
      "False\n",
      "\n",
      "\n",
      "True\n",
      "True\n",
      "False\n",
      "\n",
      "\n",
      "False\n",
      "True\n"
     ]
    }
   ],
   "source": [
    "#Operators:\n",
    "\n",
    "#Arithmetic Operators\n",
    "print(9/3) #3\n",
    "print(9*3) #27\n",
    "print(9+3) #12\n",
    "print(9-3) #6\n",
    "print(\"\\n\")\n",
    "#Conditional Operators\n",
    "print(9>3) #True\n",
    "print(9<3) #False\n",
    "print(9==3) #False\n",
    "print(3==3) #True\n",
    "print(\"\\n\")\n",
    "#Logical Operators\n",
    "print(True and True) #True\n",
    "print(False and False) #False\n",
    "print(False and True) #False\n",
    "print(\"\\n\")\n",
    "print(True or True) #True\n",
    "print(False or True) #True\n",
    "print(False or False) #False\n",
    "print(\"\\n\")\n",
    "print(not True) #False\n",
    "print(not False) #True"
   ]
  },
  {
   "cell_type": "code",
   "execution_count": 16,
   "metadata": {},
   "outputs": [
    {
     "name": "stdout",
     "output_type": "stream",
     "text": [
      "['apples', 'oranges', 'bananas', 'watermelons', 5]\n"
     ]
    }
   ],
   "source": [
    "#lists\n",
    "\n",
    "fruits = [\"apples\", \"oranges\", \"bananas\", \"watermelons\", 5]\n",
    "print(fruits)"
   ]
  },
  {
   "cell_type": "code",
   "execution_count": 19,
   "metadata": {},
   "outputs": [
    {
     "name": "stdout",
     "output_type": "stream",
     "text": [
      "h\n",
      "['h', 'e', 'l', 'l', 'o']\n"
     ]
    }
   ],
   "source": [
    "s = ['h', 'e', 'l', 'l', 'o']\n",
    "print(s[0])\n",
    "print(s[0:5])"
   ]
  },
  {
   "cell_type": "code",
   "execution_count": 20,
   "metadata": {},
   "outputs": [
    {
     "name": "stdout",
     "output_type": "stream",
     "text": [
      "{'oranges': 5, 'apples': 10, 'lemons': 100, 'melons': 0}\n"
     ]
    }
   ],
   "source": [
    "#Dictionaries\n",
    "dictionary = {\n",
    "    \"oranges\":5,\n",
    "    \"apples\":10,\n",
    "    \"lemons\":100,\n",
    "    \"melons\":0\n",
    "}\n",
    "print(dictionary)"
   ]
  },
  {
   "cell_type": "code",
   "execution_count": 21,
   "metadata": {},
   "outputs": [
    {
     "data": {
      "text/plain": [
       "5"
      ]
     },
     "execution_count": 21,
     "metadata": {},
     "output_type": "execute_result"
    }
   ],
   "source": [
    "dictionary[\"oranges\"]"
   ]
  },
  {
   "cell_type": "code",
   "execution_count": 25,
   "metadata": {},
   "outputs": [
    {
     "name": "stdout",
     "output_type": "stream",
     "text": [
      "10\n"
     ]
    }
   ],
   "source": [
    "dictionary = {\n",
    "    \"fruits\":fruits,\n",
    "    \"apples\":10,\n",
    "    \"lemons\":100,\n",
    "    \"melons\":0\n",
    "}\n",
    "print(dictionary[dictionary[\"fruits\"][0]])"
   ]
  },
  {
   "cell_type": "code",
   "execution_count": 34,
   "metadata": {},
   "outputs": [
    {
     "name": "stdout",
     "output_type": "stream",
     "text": [
      "10\n"
     ]
    }
   ],
   "source": [
    "a = 10\n",
    "b = 100\n",
    "if(a<b):\n",
    "    print(a)\n",
    "else:\n",
    "    print(b)"
   ]
  },
  {
   "cell_type": "code",
   "execution_count": 35,
   "metadata": {},
   "outputs": [
    {
     "name": "stdout",
     "output_type": "stream",
     "text": [
      "a,b and 10 apples\n"
     ]
    }
   ],
   "source": [
    "#a = 102\n",
    "#b = 100\n",
    "if(a<b and dictionary[\"apples\"]==10):\n",
    "    print(\"a,b and 10 apples\")\n",
    "else:\n",
    "    print(\"Hope I have some lemons at least?\")"
   ]
  },
  {
   "cell_type": "code",
   "execution_count": 36,
   "metadata": {},
   "outputs": [
    {
     "name": "stdout",
     "output_type": "stream",
     "text": [
      "What?\n"
     ]
    }
   ],
   "source": [
    "a = 1\n",
    "b = 1\n",
    "if(a<b and dictionary[\"apples\"]==10):\n",
    "    print(\"a,b and 10 apples\")\n",
    "elif (a>b):\n",
    "    print(\"Hope I have some lemons at least?\")\n",
    "else:\n",
    "    print(\"What?\")"
   ]
  },
  {
   "cell_type": "code",
   "execution_count": 45,
   "metadata": {},
   "outputs": [
    {
     "name": "stdout",
     "output_type": "stream",
     "text": [
      "enter a number: 4\n",
      "\n",
      "Your number is even and divisible by 4\n"
     ]
    }
   ],
   "source": [
    "'''\n",
    "Exercise 1: \n",
    "Ask the user for a number. \n",
    "Depending on whether the number is even or odd, print out an appropriate message to the user. \n",
    "Hint: how does an even / odd number react differently when divided by 2?\n",
    "the special operator: %\n",
    "'''\n",
    "x = int(input(\"enter a number: \"))\n",
    "if(x%2 == 0 and x%4 == 0):\n",
    "    print(\"\\nYour number is even and divisible by 4\")\n",
    "elif(x%2 == 0 and x%4 != 0):\n",
    "    print(\"\\nYour number is even\")\n",
    "else:\n",
    "    print(\"\\nYour number is odd\")"
   ]
  },
  {
   "cell_type": "code",
   "execution_count": 48,
   "metadata": {},
   "outputs": [
    {
     "ename": "SyntaxError",
     "evalue": "invalid syntax (<ipython-input-48-c42a3c7bafd0>, line 9)",
     "output_type": "error",
     "traceback": [
      "\u001b[0;36m  File \u001b[0;32m\"<ipython-input-48-c42a3c7bafd0>\"\u001b[0;36m, line \u001b[0;32m9\u001b[0m\n\u001b[0;31m    print(num \" is divisible by \" check)\u001b[0m\n\u001b[0m                                ^\u001b[0m\n\u001b[0;31mSyntaxError\u001b[0m\u001b[0;31m:\u001b[0m invalid syntax\n"
     ]
    }
   ],
   "source": [
    "'''\n",
    "Ask the user for two numbers: one number to check (call it num) and one number to divide by (check). \n",
    "If check divides evenly into num, tell that to the user. \n",
    "If not, print a different appropriate message.\n",
    "'''\n",
    "num = int(input(\"Enter a number: \"))\n",
    "check = int(input(\"\\nEnter a number: \"))\n",
    "if(num%check == 0):\n",
    "    print(num \" is divisible by \" check)\n",
    "else:\n",
    "    print(num \" is not divisible by \" check)"
   ]
  },
  {
   "cell_type": "code",
   "execution_count": null,
   "metadata": {},
   "outputs": [],
   "source": [
    "#loops\n",
    "for fruit in fruits:\n",
    "    print(fruit)"
   ]
  }
 ],
 "metadata": {
  "kernelspec": {
   "display_name": "Python 3",
   "language": "python",
   "name": "python3"
  },
  "language_info": {
   "codemirror_mode": {
    "name": "ipython",
    "version": 3
   },
   "file_extension": ".py",
   "mimetype": "text/x-python",
   "name": "python",
   "nbconvert_exporter": "python",
   "pygments_lexer": "ipython3",
   "version": "3.7.4"
  }
 },
 "nbformat": 4,
 "nbformat_minor": 2
}
